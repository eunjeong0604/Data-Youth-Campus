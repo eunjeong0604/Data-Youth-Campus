{
 "cells": [
  {
   "cell_type": "code",
   "execution_count": null,
   "metadata": {},
   "outputs": [],
   "source": [
    "##### python 2일차 #####\n",
    "#### 반복문 ####"
   ]
  },
  {
   "cell_type": "code",
   "execution_count": null,
   "metadata": {},
   "outputs": [],
   "source": [
    "# 기본 for 문\n",
    "for i in range(2, -1, -1):\n",
    "    print(\"%d : 안녕하세요? for 문을 공부 중입니다. ^^\"%i)"
   ]
  },
  {
   "cell_type": "code",
   "execution_count": null,
   "metadata": {},
   "outputs": [],
   "source": [
    "# 문제 : 500과 1000 사이에 있는 홀수의 합계를 구하시오\n",
    "\n",
    "num = 0\n",
    "for i in range(501, 1001, 2):\n",
    "    num = num + i\n",
    "\n",
    "print(\"500과 1000 사이에 있는 홀수의 합계 :\", num)"
   ]
  },
  {
   "cell_type": "code",
   "execution_count": null,
   "metadata": {},
   "outputs": [],
   "source": [
    "# 문제 : 키보드로 입력한 값까지 합계 구하기\n",
    "\n",
    "num = int(input(\"값을 입력하세요 :\"))\n",
    "total = 0\n",
    "\n",
    "for i in range(1, num+1):\n",
    "    total = total + i\n",
    "\n",
    "print(\"1에서 100까지의 합계 :\", total)"
   ]
  },
  {
   "cell_type": "code",
   "execution_count": null,
   "metadata": {},
   "outputs": [],
   "source": [
    "## 문제 : 시작값과 끝값, 증가 값까지 사용자가 입력하여 합을 구하는 프로그램\n",
    "\n",
    "num_first = int(input(\"시작값을 입력하세요 :\"))\n",
    "num_last = int(input(\"끝값을 입력하세요 :\"))\n",
    "num_up = int(input(\"증가값을 입력하세요 :\"))\n",
    "\n",
    "total = 0\n",
    "for i in range(num_first, num_last+1, num_up):\n",
    "    total = total + i\n",
    "\n",
    "print(num_first, \"에서 \", num_last, \"까지 \", num_up, \"씩 증가시킨 값의 합계 :\", total)"
   ]
  },
  {
   "cell_type": "code",
   "execution_count": null,
   "metadata": {},
   "outputs": [],
   "source": [
    "# 구구단\n",
    "\n",
    "dan = 0\n",
    "dan = int(input(\"단을 입력하세요 :\"))\n",
    "\n",
    "for i in range(1, 10, 1):\n",
    "    print(\"%d X %d = %2d\"%(dan, i, dan*i))"
   ]
  },
  {
   "cell_type": "code",
   "execution_count": null,
   "metadata": {},
   "outputs": [],
   "source": [
    "## 중첩 for 문\n",
    "# 문제 : 구구단이 나오도록 이중 for문을 이용해 구구단을 완성해라\n",
    "\n",
    "for i in range(2, 10, 1):\n",
    "    for j in range(1, 10, 1):\n",
    "        print(\"%d X %d = %2d\"%(i, j, i*j))"
   ]
  },
  {
   "cell_type": "code",
   "execution_count": null,
   "metadata": {},
   "outputs": [],
   "source": [
    "## while문\n",
    "# 문제 : 1에서 10가지의 합계 구하기\n",
    "\n",
    "num, i = 0, 0\n",
    "while i < 11:\n",
    "    num = num + i\n",
    "    i = i + 1\n",
    "    \n",
    "print(\"1에서 10까지의 합계 : %d\"%num)"
   ]
  },
  {
   "cell_type": "code",
   "execution_count": null,
   "metadata": {},
   "outputs": [],
   "source": [
    "# 무한루프를 이용해 입력한 두 수의 합계를 반복해서 계산하는 코드를 완성하시오\n",
    "\n",
    "while True:\n",
    "    num1 = int(input(\"더할 첫 번째 수를 입력하세요 :\"))\n",
    "    if num1 == 0:\n",
    "        break\n",
    "    num2 = int(input(\"더할 두 번째 수를 입력하세요 :\"))\n",
    "    print(\"%d + %d = %d\"%(num1, num2, num1+num2))\n",
    "print(\"0을 입력해 반복문을 탈출했습니다.\")"
   ]
  },
  {
   "cell_type": "code",
   "execution_count": null,
   "metadata": {},
   "outputs": [],
   "source": [
    "# 문제1)\n",
    "\n",
    "for i in range(1, 6):\n",
    "    for j in range(i):\n",
    "        print(\"*\", end=\"\")\n",
    "    print(\"\")"
   ]
  },
  {
   "cell_type": "code",
   "execution_count": null,
   "metadata": {},
   "outputs": [],
   "source": [
    "# 문제2) 중첩 반복문을 이용해 프로그램 작성\n",
    "\n",
    "num = int(input(\"정수를 입력하시오 :\"))\n",
    "\n",
    "for i in range(1, num+1):\n",
    "    for j in range(1, i+1):\n",
    "        print(j, end=\" \")\n",
    "    print(\"\")"
   ]
  },
  {
   "cell_type": "code",
   "execution_count": null,
   "metadata": {},
   "outputs": [],
   "source": [
    "# 문제3)\n",
    "\n",
    "num = int(input(\"정수를 입력하시오:\"))\n",
    "\n",
    "for i in range(1, num+1):\n",
    "    if num%i == 0 :\n",
    "        print(i, end=\" \")"
   ]
  },
  {
   "cell_type": "code",
   "execution_count": null,
   "metadata": {},
   "outputs": [],
   "source": [
    "# 문제4)\n",
    "\n",
    "a = int(input(\"첫번째 정수를 입력하시오 :\"))\n",
    "b = int(input(\"두번째 정수를 입력하시오 :\"))\n",
    "\n",
    "for i in range(2, min(a, b)+1):\n",
    "    if a%i == 0 and b%i == 0:\n",
    "        gcd = i\n",
    "\n",
    "print(\"최대공약수 = \", gcd)"
   ]
  },
  {
   "cell_type": "code",
   "execution_count": null,
   "metadata": {},
   "outputs": [],
   "source": [
    "# 문제5) \n",
    "\n",
    "num = int(input(\"정수를 입력하시오 :\"))\n",
    "ans = 0\n",
    "\n",
    "for i in range(1, num+1):\n",
    "    ans = ans + i**2\n",
    "print(\"계산값은 \", ans)"
   ]
  },
  {
   "cell_type": "code",
   "execution_count": null,
   "metadata": {},
   "outputs": [],
   "source": [
    "# 문제6) 1~100의 합계를 구하되, 3의 배수를 제외하고 더하라 (continue를 이용)\n",
    "\n",
    "total = 0\n",
    "for i in range(1, 101):\n",
    "    if i%3 == 0:\n",
    "        continue\n",
    "    else:\n",
    "        total += i\n",
    "print(\"1~100의 합계(3의 배수 제외) :\", total)"
   ]
  },
  {
   "cell_type": "code",
   "execution_count": null,
   "metadata": {},
   "outputs": [],
   "source": [
    "# 문제7) 수를 입력받아 짝수인지 홀수인지 판별\n",
    "# while문의 무한루프 사용\n",
    "# 0을 입력하면 exit을 출력하면서 break로 무한루프 탈출\n",
    "\n",
    "while True:\n",
    "    num = int(input(\"Enter the number :\"))\n",
    "\n",
    "    if num == 0:\n",
    "        print(\"EXIT\")\n",
    "        break\n",
    "    elif num%2 == 0:\n",
    "        print(\"%d is even number\"%num)\n",
    "    else:\n",
    "        print(\"%d is odd number\"%num)"
   ]
  },
  {
   "cell_type": "code",
   "execution_count": null,
   "metadata": {},
   "outputs": [],
   "source": [
    "# 문제8) 딸기, 사과, 바나나, 수박, 포도 순으로 냉장고에 넣었다.\n",
    "# 최근에 넣은 순서대로 과일을 꺼내는 프로그램을 for문을 이용해 작성하자.\n",
    "\n",
    "fruits = ['strawberry', 'apple', 'banana', 'watermelon', 'grape']\n",
    "\n",
    "for i in range(1, len(fruits)+1):\n",
    "    print(fruits[-i])"
   ]
  },
  {
   "cell_type": "code",
   "execution_count": null,
   "metadata": {},
   "outputs": [],
   "source": [
    "#### 함수 ####"
   ]
  },
  {
   "cell_type": "code",
   "execution_count": null,
   "metadata": {},
   "outputs": [],
   "source": [
    "def get_area(radius):\n",
    "    area = 3.14*radius**2\n",
    "    return area\n",
    "\n",
    "result = get_area(3)\n",
    "print(\"반지름이 3인 원의 면적=\", result)"
   ]
  },
  {
   "cell_type": "code",
   "execution_count": null,
   "metadata": {},
   "outputs": [],
   "source": [
    "def get_area(radius):\n",
    "    area = 3.14*radius**2\n",
    "    return area\n",
    "\n",
    "result1 = get_area(3)\n",
    "result2 = get_area(20)\n",
    "\n",
    "print(\"반지름이 3인 원의 면적=\", result1)\n",
    "print(\"반지름이 20인 원의 면적=\", result2)"
   ]
  },
  {
   "cell_type": "code",
   "execution_count": null,
   "metadata": {},
   "outputs": [],
   "source": [
    "# 예제) 가변인수도 사용가능\n",
    "\n",
    "def add(*numbers):\n",
    "    sum = 0\n",
    "    for n in numbers:\n",
    "        sum = sum + n\n",
    "    return sum\n",
    "\n",
    "print(add(10, 20))\n",
    "print(add(10, 20, 30))"
   ]
  },
  {
   "cell_type": "code",
   "execution_count": null,
   "metadata": {},
   "outputs": [],
   "source": [
    "## 함수기본\n",
    "\n",
    "def calc(v1, v2, op):\n",
    "    result = 0\n",
    "    if op == '+':\n",
    "        result = v1 + v2\n",
    "    elif op == '-':\n",
    "        reulst = v1 - v2\n",
    "    elif op == '*':\n",
    "        result = v1 * v2\n",
    "    elif op == '/':\n",
    "        result = v1 / v2\n",
    "        \n",
    "    return result\n",
    "\n",
    "res = 0\n",
    "var1, var2, oper = 0, 0, \"\"\n",
    "\n",
    "oper = input(\"계산을 입력하세요(+, -, *, /) :\")\n",
    "var1 = int(input(\"첫 번째 수를 입력하세요 :\"))\n",
    "var2 = int(input(\"두 번째 수를 입력하세요 :\"))\n",
    "\n",
    "res = calc(var1, var2, oper)\n",
    "print(\"## 계산기 : %d %s %d = %d\" %(var1, oper, var2, res))"
   ]
  },
  {
   "cell_type": "code",
   "execution_count": null,
   "metadata": {},
   "outputs": [],
   "source": [
    "# 여러 개의 값 반환\n",
    "\n",
    "name = input(\"이름 :\")\n",
    "age = int(input(\"나이 :\"))\n",
    "\n",
    "def info(name, age):\n",
    "    print(\"이름은 %s이고 나이는 %d살입니다\"%(name, age))\n",
    "    \n",
    "info(name, age)"
   ]
  },
  {
   "cell_type": "code",
   "execution_count": null,
   "metadata": {},
   "outputs": [],
   "source": [
    "def get_info():\n",
    "    name = input(\"이름:\")\n",
    "    age = int(input(\"나이:\"))\n",
    "    return name, age # 2개의 값을 반환한다. \n",
    "\n",
    "st_name, st_age = get_info() # 반환된 값을 풀어서 변수에 저장한다.\n",
    "print(\"이름은 \", st_name, \"이고 나이는 \", st_age, \"살입니다.\")"
   ]
  },
  {
   "cell_type": "code",
   "execution_count": null,
   "metadata": {},
   "outputs": [],
   "source": [
    "# 문제\n",
    "\n",
    "def cal_area():\n",
    "    bottom = int(input(\"밑변 입력:\"))\n",
    "    height = int(input(\"높이 입력:\"))\n",
    "    area = float(0.5*bottom*height)\n",
    "    print(\"삼각형의 넓이:\", area)    \n",
    "    return area\n",
    "\n",
    "cal_area()"
   ]
  },
  {
   "cell_type": "code",
   "execution_count": null,
   "metadata": {},
   "outputs": [],
   "source": [
    "## 구조화 프로그래밍 실습\n",
    "# 온도를 변환해주는 프로그램\n",
    "\n",
    "def menu():\n",
    "    print(\"1. 섭씨 온도 -> 화씨 온도\")\n",
    "    print(\"2. 화씨 온도 -> 섭씨 온도\")\n",
    "    print(\"3. 종료\")\n",
    "    selection = int(input(\"메뉴를 선택하세요:\"))\n",
    "    return selection\n",
    "\n",
    "def main():\n",
    "    while True:\n",
    "        index = menu()\n",
    "        if index == 1:\n",
    "            t = float(input(\"섭씨 온도를 입력하시오: \"))\n",
    "            t2 = t*9.0/5.0 + 32\n",
    "            print(\"화씨 온도 = \", t2, \"\\n\")\n",
    "            \n",
    "        elif index == 2:\n",
    "            t = float(input(\"화씨 온도를 입력하시오: \"))\n",
    "            t2 = (t-32.0)*5.0/9.0\n",
    "            print(\"섭씨 온도 = \", t2, \"\\n\")\n",
    "            \n",
    "        else:\n",
    "            break\n",
    "\n",
    "main()"
   ]
  },
  {
   "cell_type": "code",
   "execution_count": null,
   "metadata": {},
   "outputs": [],
   "source": [
    "# 막대 그래프 그리기\n",
    "\n",
    "import turtle\n",
    "\n",
    "def drawBar(height):\n",
    "    t.begin_fill()\n",
    "    t.left(90)  # 픽셀단위\n",
    "    t.forward(height)\n",
    "    t.write(str(height), font = ('Times New Roman', 16, 'bold'))\n",
    "    t.right(90)\n",
    "    \n",
    "    t.forward(40)\n",
    "    t.right(90)\n",
    "    t.forward(height)\n",
    "    t.left(90)\n",
    "    t.end_fill()\n",
    "    \n",
    "data = [120, 56, 309, 220, 156, 23, 98]\n",
    "\n",
    "t = turtle.Turtle()\n",
    "t.color(\"blue\")\n",
    "t.fillcolor(\"yellow\")\n",
    "\n",
    "t.pensize(3)\n",
    "\n",
    "for d in data:\n",
    "    drawBar(d)\n",
    "    \n",
    "turtle.mainloop()\n",
    "turtle.bye()"
   ]
  },
  {
   "cell_type": "code",
   "execution_count": null,
   "metadata": {},
   "outputs": [],
   "source": [
    "## 지역 변수, 전역 변수\n",
    "\n",
    "def func1():\n",
    "    global a\n",
    "    a = 10\n",
    "    print(\"func1()에서 a값 %d\" %a)\n",
    "    \n",
    "def func2():\n",
    "    print(\"func2()에서 a값 %d\" %a)\n",
    "    \n",
    "    \n",
    "a = 20\n",
    "\n",
    "func1()\n",
    "func2()"
   ]
  },
  {
   "cell_type": "code",
   "execution_count": null,
   "metadata": {},
   "outputs": [],
   "source": [
    "# 문제1) 원의 둘레\n",
    "\n",
    "def get_peri(radius = 5.0):\n",
    "    p = 2*3.141692*radius\n",
    "    return p\n",
    "\n",
    "get_peri()\n",
    "get_peri(4.0)"
   ]
  },
  {
   "cell_type": "code",
   "execution_count": 2,
   "metadata": {},
   "outputs": [],
   "source": [
    "# 문제2)  *************8*\n",
    "\n",
    "def getSorted(x, y):\n",
    "    if x > y:\n",
    "        return x, y\n",
    "    else :\n",
    "        return y, x\n",
    "    \n",
    "print(\"첫 번째 정수: \", x)\n",
    "print(\"두 번째 정수: \")"
   ]
  },
  {
   "cell_type": "code",
   "execution_count": 1,
   "metadata": {},
   "outputs": [
    {
     "name": "stdout",
     "output_type": "stream",
     "text": [
      "인간: 주사위값 =3\n",
      "컴퓨터 : 주사위값 =5\n",
      "컴퓨터 승리\n",
      "중단할까요? Y/Ny\n"
     ]
    }
   ],
   "source": [
    "##### 문제3)\n",
    "# solution1\n",
    "def dice_game():\n",
    "    while True:\n",
    "        human = int(input(\"인간: 주사위값 =\"))\n",
    "        computer = int(input(\"컴퓨터: 주사위값 =\"))\n",
    "    \n",
    "        if human > computer:\n",
    "            print(\"인간승리\")\n",
    "        elif human < computer:\n",
    "            print(\"컴퓨터 승리\")\n",
    "        else :\n",
    "            print(\"동점\")\n",
    "\n",
    "        question = input(\"중단할까요? Y/N\")\n",
    "        if question == 'Y' or question == 'y':\n",
    "            break\n",
    "        elif question == 'N' or question == 'n':\n",
    "            continue\n",
    "            \n",
    "            \n",
    "dice_game()"
   ]
  },
  {
   "cell_type": "code",
   "execution_count": 4,
   "metadata": {},
   "outputs": [
    {
     "name": "stdout",
     "output_type": "stream",
     "text": [
      "인간: 주사위값= 6\n",
      "컴퓨터: 주사위값= 1\n",
      "인간승리\n",
      "중단할까요? Y/Nn\n",
      "인간: 주사위값= 6\n",
      "컴퓨터: 주사위값= 4\n",
      "인간승리\n",
      "중단할까요? Y/Ny\n"
     ]
    }
   ],
   "source": [
    "# solution2\n",
    "import random\n",
    "\n",
    "def dice_game():\n",
    "    human = random.randint(1, 6)\n",
    "    print(\"인간: 주사위값=\", human)\n",
    "    ai = random.randint(1, 6)\n",
    "    print(\"컴퓨터: 주사위값=\", ai)\n",
    "    \n",
    "    if human > ai:\n",
    "        print(\"인간승리\")\n",
    "    elif human < ai:\n",
    "        print(\"컴퓨터 승리\")\n",
    "    else :\n",
    "        print(\"동점\")\n",
    "\n",
    "while True:\n",
    "    dice_game()\n",
    "    question = input(\"중단할까요? Y/N\")\n",
    "    if question == 'Y' or question == 'y':\n",
    "        break\n",
    "    elif question == 'N' or question == 'n':\n",
    "        continue    "
   ]
  },
  {
   "cell_type": "code",
   "execution_count": 9,
   "metadata": {},
   "outputs": [
    {
     "name": "stdout",
     "output_type": "stream",
     "text": [
      "시급을 입력하시오 :10000\n",
      "근무시간을 입력하시오 :38\n",
      "주급은  420000.0\n"
     ]
    }
   ],
   "source": [
    "# 문제4)\n",
    "# solution1\n",
    "def weeklyPay():\n",
    "    rate = int(input(\"시급을 입력하시오 :\"))\n",
    "    hour = int(input(\"근무시간을 입력하시오 :\"))\n",
    "    \n",
    "    pay = rate*hour\n",
    "    if hour >= 30:\n",
    "        pay = 30*rate + (hour-30)*rate*1.5\n",
    "        print(\"주급은 \", pay)\n",
    "    else:\n",
    "        print(\"주급은 \", pay)\n",
    "        \n",
    "weeklyPay()"
   ]
  },
  {
   "cell_type": "code",
   "execution_count": 14,
   "metadata": {},
   "outputs": [
    {
     "name": "stdout",
     "output_type": "stream",
     "text": [
      "시급을 입력하시오 :10000\n",
      "근무시간을 입력하시오 :38\n",
      "주급은  420000.0\n"
     ]
    }
   ],
   "source": [
    "# solution2\n",
    "def weeklyPay(rate, hour):\n",
    "    pay = rate*hour\n",
    "    if hour >= 30:\n",
    "        pay = 30*rate + (hour-30)*rate*1.5\n",
    "        print(\"주급은 \", pay)\n",
    "    else:\n",
    "        print(\"주급은 \", pay)\n",
    "        \n",
    "rate = int(input(\"시급을 입력하시오 :\"))\n",
    "hour = int(input(\"근무시간을 입력하시오 :\"))\n",
    "weeklyPay(rate, hour)    "
   ]
  },
  {
   "cell_type": "code",
   "execution_count": 12,
   "metadata": {},
   "outputs": [
    {
     "name": "stdout",
     "output_type": "stream",
     "text": [
      "meter 입력: 10\n",
      "10.0 meter는  10.936 yard,  32.78688524590164 feet입니다.\n"
     ]
    }
   ],
   "source": [
    "# 문제5)\n",
    "\n",
    "def change_meter(meter):\n",
    "    feet = float(meter / 0.305)\n",
    "    yard = float(meter * 1.0936)\n",
    "    print(meter, \"meter는 \", yard, \"yard, \", feet, \"feet입니다.\")\n",
    "\n",
    "meter = float(input('meter 입력: '))\n",
    "change_meter(meter)"
   ]
  },
  {
   "cell_type": "code",
   "execution_count": 13,
   "metadata": {},
   "outputs": [
    {
     "name": "stdout",
     "output_type": "stream",
     "text": [
      "비밀번호 입력: myPassword\n",
      "Your Password: Good\n"
     ]
    }
   ],
   "source": [
    "# 문제6)\n",
    "\n",
    "def checkPW(password):\n",
    "    if len(password) >= 9:\n",
    "        print(\"Your Password: Good\")\n",
    "    elif len(password) >= 5:\n",
    "        print(\"Your Password: Normal\")\n",
    "    else:\n",
    "        print(\"Your Password: Bad\")\n",
    "        \n",
    "password = input(\"비밀번호 입력: \")\n",
    "checkPW(password)"
   ]
  },
  {
   "cell_type": "code",
   "execution_count": 15,
   "metadata": {},
   "outputs": [
    {
     "name": "stdout",
     "output_type": "stream",
     "text": [
      "목적지 :춘천\n",
      "열차 종류 :KTX\n",
      "입석/좌석 :입석\n",
      "17000\n"
     ]
    }
   ],
   "source": [
    "# 문제7)\n",
    "\n",
    "def objection(o):\n",
    "    if o == '춘천':\n",
    "        return 5000\n",
    "    elif o == '부산':\n",
    "        return 30000\n",
    "    elif o == '대구':\n",
    "        return 20000\n",
    "    elif o == '수원':\n",
    "        return 10000\n",
    "    \n",
    "def train(t):\n",
    "    if t == 'KTX':\n",
    "        return 10000\n",
    "    elif t == '새마을호':\n",
    "        return 5000\n",
    "    elif t == '무궁화호':\n",
    "        return 3000\n",
    "    \n",
    "def ud(s):\n",
    "    if s == '좌석':\n",
    "        return 0\n",
    "    elif s == '입석':\n",
    "        return 2000\n",
    "    \n",
    "def cal_payment(a, b, c):\n",
    "    tot_price = objection(a) + train(b) + ud(c)\n",
    "    print(\"총금액 :\", tot_price, '원')\n",
    "    \n",
    "q1 = input(\"목적지 :\")\n",
    "q2 = input(\"열차 종류 :\")\n",
    "q3 = input(\"입석/좌석 :\")\n",
    "cal_payment(q1, q2, q3)"
   ]
  }
 ],
 "metadata": {
  "kernelspec": {
   "display_name": "Python 3",
   "language": "python",
   "name": "python3"
  },
  "language_info": {
   "codemirror_mode": {
    "name": "ipython",
    "version": 3
   },
   "file_extension": ".py",
   "mimetype": "text/x-python",
   "name": "python",
   "nbconvert_exporter": "python",
   "pygments_lexer": "ipython3",
   "version": "3.7.4"
  }
 },
 "nbformat": 4,
 "nbformat_minor": 2
}
