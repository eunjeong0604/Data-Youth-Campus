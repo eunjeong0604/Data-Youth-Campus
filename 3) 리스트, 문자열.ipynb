{
 "cells": [
  {
   "cell_type": "code",
   "execution_count": 1,
   "metadata": {},
   "outputs": [],
   "source": [
    "##### 리스트 #####"
   ]
  },
  {
   "cell_type": "code",
   "execution_count": 2,
   "metadata": {},
   "outputs": [
    {
     "name": "stdout",
     "output_type": "stream",
     "text": [
      "28,31,33,35,27,26,25,"
     ]
    }
   ],
   "source": [
    "## 리스트 방문\n",
    "temps = [28, 31, 33, 35, 27, 26, 25]\n",
    "for i in range(len(temps)):\n",
    "    print(temps[i], end=',')"
   ]
  },
  {
   "cell_type": "code",
   "execution_count": 4,
   "metadata": {},
   "outputs": [
    {
     "name": "stdout",
     "output_type": "stream",
     "text": [
      "28,31,33,35,27,26,25,"
     ]
    }
   ],
   "source": [
    "for element in temps:\n",
    "    print(element, end=',')"
   ]
  },
  {
   "cell_type": "code",
   "execution_count": 5,
   "metadata": {},
   "outputs": [
    {
     "name": "stdout",
     "output_type": "stream",
     "text": [
      "What is your name? It is Kim\n",
      "What is your quest? It is 파이썬\n",
      "What is your color? It is blue\n"
     ]
    }
   ],
   "source": [
    "# zip() 함수\n",
    "\n",
    "questions =['name','quest','color']\n",
    "answers =['Kim','파이썬','blue']\n",
    "\n",
    "for q, a in zip(questions, answers):\n",
    "    print(f\"What is your {q}? It is {a}\")"
   ]
  },
  {
   "cell_type": "code",
   "execution_count": 11,
   "metadata": {},
   "outputs": [
    {
     "name": "stdout",
     "output_type": "stream",
     "text": [
      "['아이언맨', '토르']\n"
     ]
    }
   ],
   "source": [
    "# append()\n",
    "\n",
    "heroes = [ ] # 공백 리스트를 생성\n",
    "heroes.append(\"아이언맨\") # 리스트에 ”아이언맨“을 추가 \n",
    "heroes.append(\"토르\") # 리스트에 ”토르“를 추가\n",
    "print(heroes)"
   ]
  },
  {
   "cell_type": "code",
   "execution_count": 12,
   "metadata": {},
   "outputs": [
    {
     "name": "stdout",
     "output_type": "stream",
     "text": [
      "['아이언맨', '스파이더맨', '토르']\n"
     ]
    }
   ],
   "source": [
    "# insert()\n",
    "heroes.insert(1, \"스파이더맨\")\n",
    "print(heroes)"
   ]
  },
  {
   "cell_type": "code",
   "execution_count": 14,
   "metadata": {},
   "outputs": [
    {
     "data": {
      "text/plain": [
       "2"
      ]
     },
     "execution_count": 14,
     "metadata": {},
     "output_type": "execute_result"
    }
   ],
   "source": [
    "## 리스트 탐색하기\n",
    "# index를 사용하면 가장 빠른 값의 위치를 찾아준다.\n",
    "\n",
    "heroes = ['아이언맨', '토르', '헐크', '스칼렛 위치', '헐크']\n",
    "n = heroes.index('헐크')\n",
    "n"
   ]
  },
  {
   "cell_type": "code",
   "execution_count": 19,
   "metadata": {},
   "outputs": [
    {
     "data": {
      "text/plain": [
       "'토르'"
      ]
     },
     "execution_count": 19,
     "metadata": {},
     "output_type": "execute_result"
    }
   ],
   "source": [
    "## 요소 삭제하기\n",
    "\n",
    "heroes = ['아이언맨', '토르', '헐크']\n",
    "heroes.pop(1)"
   ]
  },
  {
   "cell_type": "code",
   "execution_count": 20,
   "metadata": {},
   "outputs": [],
   "source": [
    "# remove()\n",
    "\n",
    "heroes = ['아이언맨', '토르', '헐크']\n",
    "heroes.remove('토르')"
   ]
  },
  {
   "cell_type": "code",
   "execution_count": 23,
   "metadata": {},
   "outputs": [
    {
     "data": {
      "text/plain": [
       "['아이언맨', '헐크']"
      ]
     },
     "execution_count": 23,
     "metadata": {},
     "output_type": "execute_result"
    }
   ],
   "source": [
    "heroes = ['아이언맨', '토르', '헐크']\n",
    "\n",
    "if '토르' in heroes:\n",
    "    heroes.remove('토르')\n",
    "    \n",
    "heroes"
   ]
  },
  {
   "cell_type": "code",
   "execution_count": 24,
   "metadata": {},
   "outputs": [
    {
     "data": {
      "text/plain": [
       "10"
      ]
     },
     "execution_count": 24,
     "metadata": {},
     "output_type": "execute_result"
    }
   ],
   "source": [
    "## 리스트 항목의 최대값과 최소값\n",
    "\n",
    "values = [ 1, 2, 3, 4, 5, 6, 7, 8, 9, 10 ]\n",
    "min(values)\n",
    "max(values)"
   ]
  },
  {
   "cell_type": "code",
   "execution_count": 28,
   "metadata": {},
   "outputs": [
    {
     "data": {
      "text/plain": [
       "[1, 2, 3, 4, 5]"
      ]
     },
     "execution_count": 28,
     "metadata": {},
     "output_type": "execute_result"
    }
   ],
   "source": [
    "## 리스트 정렬\n",
    "\n",
    "a = [ 3, 2, 1, 5, 4 ]\n",
    "a.sort()\n",
    "a"
   ]
  },
  {
   "cell_type": "code",
   "execution_count": 29,
   "metadata": {},
   "outputs": [
    {
     "data": {
      "text/plain": [
       "['아이언맨', '토르', '헐크']"
      ]
     },
     "execution_count": 29,
     "metadata": {},
     "output_type": "execute_result"
    }
   ],
   "source": [
    "heroes =['아이언맨','헐크','토르']\n",
    "heroes.sort()\n",
    "heroes"
   ]
  },
  {
   "cell_type": "code",
   "execution_count": 30,
   "metadata": {},
   "outputs": [
    {
     "data": {
      "text/plain": [
       "[5, 4, 3, 2, 1]"
      ]
     },
     "execution_count": 30,
     "metadata": {},
     "output_type": "execute_result"
    }
   ],
   "source": [
    "# 역순 정렬\n",
    "a =[3,2,1,5,4 ]\n",
    "a.sort(reverse=True)\n",
    "a"
   ]
  },
  {
   "cell_type": "code",
   "execution_count": 31,
   "metadata": {},
   "outputs": [
    {
     "name": "stdout",
     "output_type": "stream",
     "text": [
      "[1, 2, 3, 4, 5, 6, 7, 8, 9, 10]\n"
     ]
    }
   ],
   "source": [
    "numbers =[10,3,7,1,9,4,2,8,5,6]\n",
    "ascending_numbers =sorted(numbers)\n",
    "print( ascending_numbers )"
   ]
  },
  {
   "cell_type": "code",
   "execution_count": null,
   "metadata": {},
   "outputs": [],
   "source": [
    "# 문제)  ****************\n",
    "\n",
    "myList = [30, 10, 20]\n",
    "print(\"현재 리스트: %s\" %myList)\n",
    "\n",
    "myList.append(40)\n",
    "print(\"append(40후의 리스트): %s\" %myList)\n",
    "\n",
    "def append_list(myList):\n",
    "    print(\"현재 리스트: %s\" %myList)\n",
    "    apd_list = myList.append(40)\n",
    "    print(\"append(40후의 리스트): %s\" %apd_list)\n",
    "    pop_list = myList.pop(40)\n",
    "    print(\"pop()으로 추출한 값 :\", pop_list)\n",
    "    print(\"pop() 후의 리스트 :\", myList)\n",
    "    sort_list = myList.sort()\n",
    "    print(\"sort() 후의 리스트 :\", sort_list)\n",
    "    rev_list = my_List.reverse()\n",
    "    print(\"reverse() 후의 리스트 :\", rev_list)\n",
    "    print(\"20값의 위치 :\", rev_list.index(20))\n",
    "    \n",
    "    # 너무 길다 answer 보자 .. 이정돈 알아야 한대"
   ]
  },
  {
   "cell_type": "code",
   "execution_count": 36,
   "metadata": {},
   "outputs": [
    {
     "name": "stdout",
     "output_type": "stream",
     "text": [
      "성적을 입력하시오 :10\n",
      "성적을 입력하시오 :20\n",
      "성적을 입력하시오 :60\n",
      "성적을 입력하시오 :70\n",
      "성적을 입력하시오 :80\n",
      "성적평균 = 48 \n",
      "최대점수 = 80 \n",
      "최소점수 = 10 \n",
      "80점 이상 = 1\n"
     ]
    }
   ],
   "source": [
    "## lab. 성적 처리 프로그램\n",
    "\n",
    "students = 5\n",
    "lst = []\n",
    "count = 0\n",
    "\n",
    "for i in range(students):\n",
    "    grade = int(input(\"성적을 입력하시오 :\"))\n",
    "    lst.append(grade)\n",
    "    \n",
    "g_mean = sum(lst)/len(lst)\n",
    "g_max = max(lst)\n",
    "g_min = min(lst)\n",
    "    \n",
    "lst2 = []\n",
    "for score in lst:\n",
    "    if score >= 80:\n",
    "        count += 1\n",
    "\n",
    "print(\"성적평균 = %d \\n최대점수 = %d \\n최소점수 = %d \\n80점 이상 = %d\" %(g_mean, g_max, g_min, count))"
   ]
  },
  {
   "cell_type": "code",
   "execution_count": null,
   "metadata": {},
   "outputs": [],
   "source": [
    "## lab. 리스트에서 2번째로 큰 수 찾기\n"
   ]
  },
  {
   "cell_type": "code",
   "execution_count": 46,
   "metadata": {},
   "outputs": [
    {
     "data": {
      "text/plain": [
       "[9.0, 8.3, 7.1, 9.0]"
      ]
     },
     "execution_count": 46,
     "metadata": {},
     "output_type": "execute_result"
    }
   ],
   "source": [
    "## lab. 콘테스트 평가\n",
    "\n",
    "scores = [10.0, 9.0, 8.3, 7.1, 3.0, 9.0]\n",
    "\n",
    "scores.remove(max(scores))\n",
    "scores.remove(min(scores))\n",
    "scores"
   ]
  },
  {
   "cell_type": "code",
   "execution_count": 60,
   "metadata": {},
   "outputs": [
    {
     "name": "stdout",
     "output_type": "stream",
     "text": [
      "과일을 입력하시오: apple\n",
      "과일을 입력하시오: orange\n",
      "과일을 입력하시오: grape\n",
      "grape\n",
      "orange\n",
      "apple\n"
     ]
    }
   ],
   "source": [
    "## lab. 리스트로 스택 흉내내기\n",
    "\n",
    "stack = []\n",
    "\n",
    "for i in range(3):\n",
    "    f = input(\"과일을 입력하시오: \")\n",
    "    stack.append(f)\n",
    "        \n",
    "for i in range(3):\n",
    "    print(stack.pop())"
   ]
  },
  {
   "cell_type": "code",
   "execution_count": 61,
   "metadata": {},
   "outputs": [],
   "source": [
    "## 리스트 합병과 복제\n",
    "\n",
    "heroes1 = [ \"아이언맨\", \"토르\" ]\n",
    "heroes2 = [ \"헐크\", \"스칼렛 위치\" ]\n",
    "avengers = heroes1 + heroes2 "
   ]
  },
  {
   "cell_type": "code",
   "execution_count": 64,
   "metadata": {},
   "outputs": [
    {
     "name": "stdout",
     "output_type": "stream",
     "text": [
      "16\n"
     ]
    }
   ],
   "source": [
    "# 문제\n",
    "\n",
    "string = ['happy', 'love', 'dog', 'cat']\n",
    "num=[1, 2, 6, 3, 9, 5]\n",
    "empty=[]\n",
    "mix=[4, 0, 'hi', 1, 'sun', 'x']\n",
    "\n",
    "total = len(string) + len(num) + len(empty) + len(mix)\n",
    "print(total)"
   ]
  },
  {
   "cell_type": "code",
   "execution_count": 65,
   "metadata": {},
   "outputs": [
    {
     "name": "stdout",
     "output_type": "stream",
     "text": [
      "True\n"
     ]
    }
   ],
   "source": [
    "## 리스트 비교\n",
    "\n",
    "list1 = [ 3, 4, 5 ]\n",
    "list2 = [ 1, 2, 3 ]\n",
    "print(list1 > list2) "
   ]
  },
  {
   "cell_type": "code",
   "execution_count": 68,
   "metadata": {},
   "outputs": [
    {
     "name": "stdout",
     "output_type": "stream",
     "text": [
      "[28, 31, 33, 35, 27, 26, 25]\n",
      "[28, 31, 33, 39, 27, 26, 25]\n",
      "[28, 31, 33, 39, 27, 26, 25]\n"
     ]
    }
   ],
   "source": [
    "## 리스트 복사\n",
    "\n",
    "temps = [28, 31, 33, 35, 27, 26, 25] \n",
    "values = temps  # 얕은 복사 (한 가지를 바꾸면 다른 리스트도 바뀜)\n",
    "\n",
    "print(temps)\n",
    "values[3] = 39 # values 리스트 변경\n",
    "print(temps)\n",
    "print(values)"
   ]
  },
  {
   "cell_type": "code",
   "execution_count": 69,
   "metadata": {},
   "outputs": [
    {
     "name": "stdout",
     "output_type": "stream",
     "text": [
      "[28, 31, 33, 35, 27, 26, 25]\n",
      "[28, 31, 33, 35, 27, 26, 25]\n",
      "[28, 31, 33, 39, 27, 26, 25]\n"
     ]
    }
   ],
   "source": [
    "temps = [28, 31, 33, 35, 27, 26, 25] \n",
    "values = list(temps)  # 깊은 복사 (한 리스트를 바꿔도 다른 리스트는 안 바뀜)\n",
    "\n",
    "print(temps)\n",
    "values[3] = 39 # values 리스트 변경\n",
    "print(temps)\n",
    "print(values)"
   ]
  },
  {
   "cell_type": "code",
   "execution_count": 70,
   "metadata": {},
   "outputs": [
    {
     "data": {
      "text/plain": [
       "[30, 40, 50, 60, 70]"
      ]
     },
     "execution_count": 70,
     "metadata": {},
     "output_type": "execute_result"
    }
   ],
   "source": [
    "## 슬라이싱\n",
    "\n",
    "numbers = [10, 20, 30, 40, 50, 60, 70, 80, 90]\n",
    "sublist = numbers[2:7]\n",
    "sublist"
   ]
  },
  {
   "cell_type": "code",
   "execution_count": 71,
   "metadata": {},
   "outputs": [
    {
     "data": {
      "text/plain": [
       "[10, 20, 30, 40, 50, 60, 70, 80, 90]"
      ]
     },
     "execution_count": 71,
     "metadata": {},
     "output_type": "execute_result"
    }
   ],
   "source": [
    "## 시작과 끝 인덱스는 생략가능\n",
    "\n",
    "numbers[:3]\n",
    "numbers[3:]\n",
    "numbers[:]"
   ]
  },
  {
   "cell_type": "code",
   "execution_count": 72,
   "metadata": {},
   "outputs": [],
   "source": [
    "new_numbers = numbers[:]  # 깊은 복사가 됨"
   ]
  },
  {
   "cell_type": "code",
   "execution_count": 73,
   "metadata": {},
   "outputs": [
    {
     "data": {
      "text/plain": [
       "[30, 50, 70]"
      ]
     },
     "execution_count": 73,
     "metadata": {},
     "output_type": "execute_result"
    }
   ],
   "source": [
    "## 고급 슬라이싱\n",
    "\n",
    "numbers = [10, 20, 30, 40, 50, 60, 70, 80, 90]\n",
    "sublist = numbers[2:7:2]  # 2번씩 건너뛰어서 슬라이싱 가능\n",
    "sublist"
   ]
  },
  {
   "cell_type": "code",
   "execution_count": 75,
   "metadata": {},
   "outputs": [
    {
     "data": {
      "text/plain": [
       "[90, 80, 70, 60, 50, 40, 30, 20, 10]"
      ]
     },
     "execution_count": 75,
     "metadata": {},
     "output_type": "execute_result"
    }
   ],
   "source": [
    "## 리스트를 역순으로 만드는 법\n",
    "\n",
    "numbers = [10, 20, 30, 40, 50, 60, 70, 80, 90]\n",
    "numbers[::-1]"
   ]
  },
  {
   "cell_type": "code",
   "execution_count": 76,
   "metadata": {},
   "outputs": [
    {
     "data": {
      "text/plain": [
       "['white', 'blue', 'red', 4, 5, 6, 7, 8]"
      ]
     },
     "execution_count": 76,
     "metadata": {},
     "output_type": "execute_result"
    }
   ],
   "source": [
    "## 리스트 변경\n",
    "\n",
    "lst = [1, 2, 3, 4, 5, 6, 7, 8]\n",
    "lst[0:3] = ['white', 'blue', 'red']\n",
    "lst"
   ]
  },
  {
   "cell_type": "code",
   "execution_count": 77,
   "metadata": {},
   "outputs": [
    {
     "data": {
      "text/plain": [
       "[99, 2, 99, 4, 99, 6, 99, 8]"
      ]
     },
     "execution_count": 77,
     "metadata": {},
     "output_type": "execute_result"
    }
   ],
   "source": [
    "lst = [1, 2, 3, 4, 5, 6, 7, 8]\n",
    "lst[::2] = [99, 99, 99, 99]\n",
    "lst"
   ]
  },
  {
   "cell_type": "code",
   "execution_count": 78,
   "metadata": {},
   "outputs": [
    {
     "data": {
      "text/plain": [
       "[]"
      ]
     },
     "execution_count": 78,
     "metadata": {},
     "output_type": "execute_result"
    }
   ],
   "source": [
    "lst = [1, 2, 3, 4, 5, 6, 7, 8]\n",
    "lst[:] = []\n",
    "lst"
   ]
  },
  {
   "cell_type": "code",
   "execution_count": 79,
   "metadata": {},
   "outputs": [
    {
     "name": "stdout",
     "output_type": "stream",
     "text": [
      "[0, 1, 2, 3, 4, 5, 6, 7, 8, 9]\n",
      "[0, 1, 2, 3, 4, 5, 6, 7, 8]\n"
     ]
    }
   ],
   "source": [
    "numbers = list(range(0, 10)) # 0에서 시작하여 9까지를 저장하는 리스트\n",
    "print(numbers)\n",
    "\n",
    "del numbers[-1] # 마지막 항목을 삭제한다. \n",
    "print(numbers)"
   ]
  },
  {
   "cell_type": "code",
   "execution_count": 80,
   "metadata": {},
   "outputs": [
    {
     "name": "stdout",
     "output_type": "stream",
     "text": [
      "M\n",
      "Pyth\n",
      "Monty\n"
     ]
    }
   ],
   "source": [
    "## 문자열과 리스트\n",
    "\n",
    "s = \"Monty Python\"\n",
    "print(s[0])\n",
    "print(s[6:10])\n",
    "print(s[-12:-7]) "
   ]
  },
  {
   "cell_type": "code",
   "execution_count": 82,
   "metadata": {},
   "outputs": [
    {
     "name": "stdout",
     "output_type": "stream",
     "text": [
      "[0, 1, 4, 9, 16, 25, 36, 49, 64, 81]\n"
     ]
    }
   ],
   "source": [
    "## 리스트 함축\n",
    "\n",
    "squares = []\n",
    "\n",
    "for x in range(10):\n",
    "    squares.append(x*x)\n",
    "    \n",
    "print(squares)"
   ]
  },
  {
   "cell_type": "code",
   "execution_count": 84,
   "metadata": {},
   "outputs": [
    {
     "data": {
      "text/plain": [
       "[0, 1, 4, 9, 16, 25, 36, 49, 64, 81]"
      ]
     },
     "execution_count": 84,
     "metadata": {},
     "output_type": "execute_result"
    }
   ],
   "source": [
    "squares = [x*x for x in range(10)]\n",
    "squares"
   ]
  },
  {
   "cell_type": "code",
   "execution_count": 85,
   "metadata": {},
   "outputs": [
    {
     "data": {
      "text/plain": [
       "[0, 4, 16, 36, 64]"
      ]
     },
     "execution_count": 85,
     "metadata": {},
     "output_type": "execute_result"
    }
   ],
   "source": [
    "squares = [x*x for x in range(10) if x%2 == 0]\n",
    "squares"
   ]
  },
  {
   "cell_type": "code",
   "execution_count": 86,
   "metadata": {},
   "outputs": [
    {
     "data": {
      "text/plain": [
       "[135, 0, 922, 356, 0, 217]"
      ]
     },
     "execution_count": 86,
     "metadata": {},
     "output_type": "execute_result"
    }
   ],
   "source": [
    "## 다양한 리스트 함축\n",
    "\n",
    "prices = [135, -545, 922, 356, -992, 217]\n",
    "mprices = [i if i > 0 else 0 for i in prices]\n",
    "mprices"
   ]
  },
  {
   "cell_type": "code",
   "execution_count": 87,
   "metadata": {},
   "outputs": [
    {
     "data": {
      "text/plain": [
       "['A', 'g', 't', 'm', 'c', 't', 'a', 'e']"
      ]
     },
     "execution_count": 87,
     "metadata": {},
     "output_type": "execute_result"
    }
   ],
   "source": [
    "words = [\"All\", \"good\", \"things\", \"must\", \"come\", \"to\", \"an\", \"end.\"]\n",
    "letters = [ w[0] for w in words ]\n",
    "letters"
   ]
  },
  {
   "cell_type": "code",
   "execution_count": 88,
   "metadata": {},
   "outputs": [
    {
     "data": {
      "text/plain": [
       "['ax', 'ay', 'az', 'bx', 'by', 'bz', 'cx', 'cy', 'cz']"
      ]
     },
     "execution_count": 88,
     "metadata": {},
     "output_type": "execute_result"
    }
   ],
   "source": [
    "numbers = [x+y for x in ['a','b','c'] for y in ['x','y','z']]\n",
    "numbers"
   ]
  },
  {
   "cell_type": "code",
   "execution_count": null,
   "metadata": {},
   "outputs": [],
   "source": [
    "## 2차원 리스트\n",
    "# 47 page"
   ]
  }
 ],
 "metadata": {
  "kernelspec": {
   "display_name": "Python 3",
   "language": "python",
   "name": "python3"
  },
  "language_info": {
   "codemirror_mode": {
    "name": "ipython",
    "version": 3
   },
   "file_extension": ".py",
   "mimetype": "text/x-python",
   "name": "python",
   "nbconvert_exporter": "python",
   "pygments_lexer": "ipython3",
   "version": "3.7.4"
  }
 },
 "nbformat": 4,
 "nbformat_minor": 2
}
