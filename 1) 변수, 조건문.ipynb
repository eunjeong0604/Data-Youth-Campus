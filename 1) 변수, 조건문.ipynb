{
 "cells": [
  {
   "cell_type": "code",
   "execution_count": null,
   "metadata": {},
   "outputs": [],
   "source": [
    "##### python 첫번째 수업 #####"
   ]
  },
  {
   "cell_type": "code",
   "execution_count": null,
   "metadata": {},
   "outputs": [],
   "source": [
    "#### 1) 변수 ####"
   ]
  },
  {
   "cell_type": "code",
   "execution_count": null,
   "metadata": {},
   "outputs": [],
   "source": [
    "# 부가세 계산 (round함수 이용)\n",
    "price = 12345\n",
    "tax = round(price * 0.075, 2)\n",
    "tax"
   ]
  },
  {
   "cell_type": "code",
   "execution_count": null,
   "metadata": {},
   "outputs": [],
   "source": [
    "# 문자열의 함수\n",
    "name = \"Harry Parter\"\n",
    "lower_name = name.lower()"
   ]
  },
  {
   "cell_type": "code",
   "execution_count": null,
   "metadata": {},
   "outputs": [],
   "source": [
    "name = \"Harry Parter\"\n",
    "new_name = name.replace(\"Parter\", \"Porter\")\n",
    "new_name"
   ]
  },
  {
   "cell_type": "code",
   "execution_count": null,
   "metadata": {},
   "outputs": [],
   "source": [
    "# input 활용하기\n",
    "s1 = input(\"첫번째 정수를 입력하시오.\")\n",
    "x = int(s1)\n",
    "\n",
    "s2 = input(\"두번째 정수를 입력하시오.\")\n",
    "y = int(s2)\n",
    "\n",
    "sum = x + y\n",
    "print(\"합은\", sum)"
   ]
  },
  {
   "cell_type": "code",
   "execution_count": null,
   "metadata": {},
   "outputs": [],
   "source": [
    "# 부동소수점수 입력 (float 이용)\n",
    "# 면적 입력하면 몇 평인지 알려주기\n",
    "sqmeter_per_p = 3.3\n",
    "\n",
    "area = float(input(\"면적(m^2): \"))\n",
    "py = area/sqmeter_per_p\n",
    "print(py, \"평\")"
   ]
  },
  {
   "cell_type": "code",
   "execution_count": null,
   "metadata": {},
   "outputs": [],
   "source": [
    "# 한 번에 문자와 숫자 출력하기\n",
    "x = 100\n",
    "y = 200\n",
    "\n",
    "print(f\"{x}와 {y}의 합 = {x+y}\")\n",
    "print(f\"{x} + {y} = {x+y}\")"
   ]
  },
  {
   "cell_type": "code",
   "execution_count": null,
   "metadata": {},
   "outputs": [],
   "source": [
    "sqmeter_per_p = 3.3\n",
    "\n",
    "area = eval(input(\"면적(제곱미터):\"))\n",
    "py = area/sqmeter_per_p\n",
    "print(\"%.2f\"%py, \"평\")"
   ]
  },
  {
   "cell_type": "code",
   "execution_count": null,
   "metadata": {},
   "outputs": [],
   "source": [
    "# 대화하는 프로그램 만들기\n",
    "\n",
    "print(\"안녕하세요?\")\n",
    "\n",
    "name = input(\"\\n이름이 어떻게 되시나요?\")\n",
    "print(\"만나서 반갑습니다.\" + name + \"씨\")\n",
    "print(\"이름의 길이는 다음과 같군요\", len(name))\n",
    "\n",
    "age = int(input(\"\\n나이가 어떻게 되나요? \"))\n",
    "print(\"내년이면 \" + str(age+1) + \"이 되시는군요.\")"
   ]
  },
  {
   "cell_type": "code",
   "execution_count": null,
   "metadata": {},
   "outputs": [],
   "source": [
    "# 구의 부피 계산하기\n",
    "\n",
    "r = int(input(\"반지름을 입력하시오: \"))\n",
    "print(\"구의 부피 = \", (r**3)*3.14*(4/3))"
   ]
  },
  {
   "cell_type": "code",
   "execution_count": null,
   "metadata": {},
   "outputs": [],
   "source": [
    "# 문제1) 음식 비용을 입력하면 팁을 포함한 전체 금액을 계산해주는 프로그램 작성\n",
    "\n",
    "price = int(input(\"음식비용 : \"))\n",
    "tip = float(input(\"팁 비율 : \"))\n",
    "print(\"총액은\" + str(price+price*tip) + \"입니다.\")"
   ]
  },
  {
   "cell_type": "code",
   "execution_count": null,
   "metadata": {},
   "outputs": [],
   "source": [
    "# 문제2) 농장에 2마리 닭, 4마리 돼지, 3마리 소가 있다. 전체 다리수는 ?\n",
    "\n",
    "chicken = int(input(\"닭 : \"))\n",
    "pig = int(input(\"돼지 : \"))\n",
    "cow = int(input(\"소 : \"))\n",
    "print(\"전체다리 수 : \" + str(chicken*2 + pig*4 + cow*4))"
   ]
  },
  {
   "cell_type": "code",
   "execution_count": null,
   "metadata": {},
   "outputs": [],
   "source": [
    "# 문제3) 사용자로부터 두 개의 정수를 받아\n",
    "# 정수의 합, 차, 곱, 평균, 큰 수, 작은 수를 계산하여 화면에 출력\n",
    "# max(x, y), min(x, y) 사용\n",
    "\n",
    "x = int(input(\"x : \"))\n",
    "y = int(input(\"y : \"))\n",
    "\n",
    "print(\"두 수의 합 : \" + str(x+y)\n",
    "     + \"\\n두 수의 차 : \" + str(x-y)\n",
    "     + \"\\n두 수의 곱 : \" + str(x*y)\n",
    "     + \"\\n두 수의 평균 : \" + str(x+y/2)\n",
    "     + \"\\n큰 수 : \" + str(max(x, y))\n",
    "     + \"\\n작은 수 : \" + str(min(x, y)))"
   ]
  },
  {
   "cell_type": "code",
   "execution_count": null,
   "metadata": {},
   "outputs": [],
   "source": [
    "# 문제4) 화씨 온도를 읽어서 섭씨 온도로 변환하는 프로그램을 작성하라\n",
    "# 변환수식 : C = (f-32.0)*5/9\n",
    "\n",
    "f = int(input(\"화씨 온도를 입력하시오 : \"))\n",
    "C = round((f-32.0)*5/9, 2)\n",
    "print(\"화씨\", f, \"도는 섭씨\", C, \"도에 해당됩니다.\")"
   ]
  },
  {
   "cell_type": "code",
   "execution_count": null,
   "metadata": {},
   "outputs": [],
   "source": [
    "# 문제5) 사용자로부터 신장, 체중을 입력받아 BMI 값을 출력하는 프로그램 작성\n",
    "\n",
    "w = int(input(\"몸무게를 kg 단위로 입력하시오 : \"))\n",
    "h = float(input(\"키를 m 단위로 입력하시오 : \"))\n",
    "BMI = w/h**2\n",
    "print(\"당신의 BMI = \", BMI)"
   ]
  },
  {
   "cell_type": "code",
   "execution_count": null,
   "metadata": {},
   "outputs": [],
   "source": [
    "#### 2) 조건문 ####"
   ]
  },
  {
   "cell_type": "code",
   "execution_count": null,
   "metadata": {},
   "outputs": [],
   "source": [
    "a = 99\n",
    "if a < 100:\n",
    "    print(\"100보다 작군요.\")"
   ]
  },
  {
   "cell_type": "code",
   "execution_count": null,
   "metadata": {},
   "outputs": [],
   "source": [
    "# 문제 : 100보다 작은 수인지 아닌지\n",
    "\n",
    "a = int(input(\"정수를 입력하세요 : \"))\n",
    "\n",
    "if a < 100:\n",
    "    print(\"100보다 작군요.\")\n",
    "else:\n",
    "    print(\"100보다 크군요.\")"
   ]
  },
  {
   "cell_type": "code",
   "execution_count": null,
   "metadata": {},
   "outputs": [],
   "source": [
    "# 문제 : 입력 숫자가 짝수인지 홀수인지 if else문을 이용해 코드 작성\n",
    "\n",
    "a = int(input(\"정수를 입력하세요 : \"))\n",
    "\n",
    "if a % 2 == 0:\n",
    "    print(\"짝수를 입력했군요.\")\n",
    "else:\n",
    "    print(\"홀수를 입력했군요.\")"
   ]
  },
  {
   "cell_type": "code",
   "execution_count": null,
   "metadata": {},
   "outputs": [],
   "source": [
    "# 문제 : 아래 순서도를 if-elif-else문을 이용해 코드를 작성하시오\n",
    "\n",
    "a = int(input(\"정수를 입력하세요 : \"))\n",
    "\n",
    "if a >= 90:\n",
    "    print(\"A\")\n",
    "elif a >= 80:\n",
    "    print(\"B\")\n",
    "elif a >= 80:\n",
    "    print(\"C\")\n",
    "elif a >= 80:\n",
    "    print(\"D\")\n",
    "else:\n",
    "    print(\"F\")\n",
    "print(\"학점입니다. ^^\")"
   ]
  },
  {
   "cell_type": "code",
   "execution_count": null,
   "metadata": {},
   "outputs": [],
   "source": [
    "#### if문 응용\n",
    "## 리스트와 함께 사용\n",
    "\n",
    "fruit = ['사과', '배', '딸기', '포도']\n",
    "print(fruit)"
   ]
  },
  {
   "cell_type": "code",
   "execution_count": null,
   "metadata": {},
   "outputs": [],
   "source": [
    "fruit.append('귤')"
   ]
  },
  {
   "cell_type": "code",
   "execution_count": null,
   "metadata": {},
   "outputs": [],
   "source": [
    "# 리스트 안에 항목이 있는지 없는지\n",
    "\n",
    "import random\n",
    "\n",
    "numbers = []\n",
    "for num in range(0, 10) :\n",
    "    numbers.append(random.randrange(0, 10))\n",
    "    \n",
    "print(\"생성된 리스트\", numbers)\n",
    "\n",
    "for num in range(0, 10):\n",
    "    if num not in numbers:\n",
    "        print(\"숫자 %d는(은) 리스트에 없네요.\" %num)"
   ]
  },
  {
   "cell_type": "code",
   "execution_count": 5,
   "metadata": {},
   "outputs": [
    {
     "name": "stdout",
     "output_type": "stream",
     "text": [
      "1. 입력한 수식 계산 2. 두 수 사이의 합계 :2\n",
      "*** 첫 번째 숫자를 입력하세요 : 1\n",
      "*** 두 번째 숫자를 입력하세요 : 10\n",
      "1+...+10는 55입니다.\n"
     ]
    }
   ],
   "source": [
    "# 문제1) 아래의 화면이 나오도록 코드를 완성하시오.\n",
    "\n",
    "select = int(input(\"1. 입력한 수식 계산 2. 두 수 사이의 합계 :\" ))\n",
    "\n",
    "if select == 1:\n",
    "    numStr = input(\"*** 수식을 입력하세요 : \")\n",
    "    answer = eval(numStr)\n",
    "    print(\"%s 결과는 %5.1f입니다.\"%(numStr, answer))\n",
    "elif select == 2:\n",
    "    num1 = int(input(\"*** 첫 번째 숫자를 입력하세요 : \"))\n",
    "    num2 = int(input(\"*** 두 번째 숫자를 입력하세요 : \"))\n",
    "    answer = 0\n",
    "    for i in range(num1, num2+1):\n",
    "        answer = answer + i\n",
    "    print(\"%d+...+%d는 %d입니다.\"%(num1, num2, answer))\n",
    "else:\n",
    "    print(\"1 또는 2만 입력해야 합니다.\")"
   ]
  },
  {
   "cell_type": "code",
   "execution_count": 2,
   "metadata": {},
   "outputs": [
    {
     "name": "stdout",
     "output_type": "stream",
     "text": [
      "정가를 입력하시오 : 100\n",
      "10층에서 사은품을 받아가세요.\n",
      "할인된 가격 =  85.0\n"
     ]
    }
   ],
   "source": [
    "# 문제2) 세일 가격 계산\n",
    "\n",
    "price = int(input(\"정가를 입력하시오 : \"))\n",
    "\n",
    "if price < 100:\n",
    "    print(\"할인된 가격 = \", price*0.9)\n",
    "else:\n",
    "    print(\"10층에서 사은품을 받아가세요.\")\n",
    "    print(\"할인된 가격 = \", price*0.85)"
   ]
  },
  {
   "cell_type": "code",
   "execution_count": null,
   "metadata": {},
   "outputs": [],
   "source": [
    "# 문제3)\n",
    "price = int(input(\"가격을 입력하시오 : \"))\n",
    "card = input(\"카드 종류를 입력하시오 : \")\n",
    "\n",
    "if price >= 20000 and card == \"python\":\n",
    "    print(\"배송료가 없습니다.\")\n",
    "else:\n",
    "    print(\"배송료는 3000원입니다.\")"
   ]
  },
  {
   "cell_type": "code",
   "execution_count": null,
   "metadata": {},
   "outputs": [],
   "source": [
    "# 문제4) 동전 던지기 게임\n",
    "\n",
    "import random\n",
    "\n",
    "print(\"동전 던지기 게임을 시작합니다.\")\n",
    "coin = random.randrange(2)\n",
    "\n",
    "if coin == 0:\n",
    "    print(\"앞면입니다.\")\n",
    "else:\n",
    "    print(\"뒷면입니다.\")\n",
    "    \n",
    "print(\"게임이 종료되었습니다.\")"
   ]
  },
  {
   "cell_type": "code",
   "execution_count": null,
   "metadata": {},
   "outputs": [],
   "source": [
    "# 문제5) 리히터 규모\n",
    "\n",
    "scale = float(input(\"리히터 규모를 입력하시오:\"))\n",
    "\n",
    "if scale < 2.0:\n",
    "    print(\"지진계에 의해서만 탐지 가능합니다.\")\n",
    "elif scale < 4.0:\n",
    "    print(\"물건들이 흔들리거나 떨어집니다.\")\n",
    "elif scale < 7.0:\n",
    "    print(\"빈약한 건물에 큰 피해가 있습니다.\")\n",
    "elif scale < 8.0:\n",
    "    print(\"지표면에 균열이 발생합니다.\")\n",
    "else:\n",
    "    print(\"대부분의 구조물이 파괴됩니다.\")"
   ]
  },
  {
   "cell_type": "code",
   "execution_count": null,
   "metadata": {},
   "outputs": [],
   "source": [
    "# 문제6) 사용자 입력 검증하기\n",
    "\n",
    "print(\"======================\")\n",
    "print(\"메뉴 1번: 치즈 버거\")\n",
    "print(\"메뉴 2번: 치킨 버거\")\n",
    "print(\"메뉴 3번: 불고기 버거\")\n",
    "print(\"======================\")\n",
    "selection = int(input(\"메뉴를 선택하세요:\"))\n",
    "\n",
    "if selection not in (1, 2, 3):\n",
    "    print(\"잘못 입력하셨습니다.\")\n",
    "else:\n",
    "    print(\"메뉴\", selection)"
   ]
  },
  {
   "cell_type": "code",
   "execution_count": null,
   "metadata": {},
   "outputs": [],
   "source": []
  }
 ],
 "metadata": {
  "kernelspec": {
   "display_name": "Python 3",
   "language": "python",
   "name": "python3"
  }
 },
 "nbformat": 4,
 "nbformat_minor": 2
}
